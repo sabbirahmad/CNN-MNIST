{
 "cells": [
  {
   "cell_type": "markdown",
   "metadata": {},
   "source": [
    "# Assignment One (CS 7180)"
   ]
  },
  {
   "cell_type": "code",
   "execution_count": 1,
   "metadata": {
    "collapsed": true
   },
   "outputs": [],
   "source": [
    "import numpy as np\n",
    "import matplotlib.pyplot as plt\n",
    "import torch\n",
    "import torch.nn as nn\n",
    "import torchvision\n",
    "import torchvision.transforms as transforms\n",
    "import torch.nn.functional as F\n",
    "import torch.optim as optim\n",
    "%matplotlib inline\n",
    "# Device configuration\n",
    "device = torch.device('cuda:0' if torch.cuda.is_available() else 'cpu')"
   ]
  },
  {
   "cell_type": "markdown",
   "metadata": {},
   "source": [
    "### 1. Load Data"
   ]
  },
  {
   "cell_type": "code",
   "execution_count": 2,
   "metadata": {},
   "outputs": [
    {
     "name": "stdout",
     "output_type": "stream",
     "text": [
      "dataset size:  70000\n",
      "sample size: 60000\n",
      "batch size:  32\n"
     ]
    }
   ],
   "source": [
    "# 1. Load MNIST training and test data from torchvision.datasets.MNIST.\n",
    "# 2. Please use data.DataLoader and print out dataset size, sample size, batch size.\n",
    "#******************************#\n",
    "\n",
    "import torch\n",
    "from torchvision import datasets, transforms\n",
    "\n",
    "# Define a transform to normalize the data\n",
    "transform = transforms.Compose([transforms.ToTensor(),\n",
    "                                transforms.Normalize((0.5,), (0.5,))  # normalizing the data\n",
    "                               ])\n",
    "# Download and load the training data\n",
    "trainset = datasets.MNIST('~/.pytorch/MNIST_data/', download=True, train=True, transform=transform)\n",
    "trainloader = torch.utils.data.DataLoader(trainset, batch_size=32, shuffle=True)\n",
    "\n",
    "# Download and load the test data\n",
    "testset = datasets.MNIST('~/.pytorch/MNIST_data/', download=True, train=False, transform=transform)\n",
    "testloader = torch.utils.data.DataLoader(testset, batch_size=32, shuffle=True)\n",
    "\n",
    "#******************************#\n",
    "\n",
    "print('dataset size: ', trainloader.sampler.num_samples + testloader.sampler.num_samples)\n",
    "print('sample size:', trainloader.sampler.num_samples)\n",
    "print('batch size: ', trainloader.batch_size)\n",
    "\n",
    "num_classes = 10"
   ]
  },
  {
   "cell_type": "markdown",
   "metadata": {},
   "source": [
    "### 2. Define Hyper-parameters"
   ]
  },
  {
   "cell_type": "code",
   "execution_count": 3,
   "metadata": {
    "collapsed": true
   },
   "outputs": [],
   "source": [
    "# Define hyper-parameters\n",
    "#******************************#\n",
    "dropout_pr = 0.2\n",
    "stride = 1\n",
    "padding = 1\n",
    "kernel_size = 3  # filter size 3x3\n",
    "num_filters1 = 8  # output channel from first convolutional layer\n",
    "num_filters2 = 16  # output channel from second convolutional layer\n",
    "maxpool_size = 2  # maxpooling size 2x2\n",
    "num_h1 = 256  # dense hidden layer size \n",
    "n_epochs = 10\n",
    "learning_rate = 0.01  # learning rate for SGD\n",
    "\n",
    "#******************************#\n",
    "\n",
    "final_image_size = int((28/maxpool_size)/maxpool_size)\n",
    "# print(final_image_size)\n"
   ]
  },
  {
   "cell_type": "markdown",
   "metadata": {},
   "source": [
    "### 3. Define a Convolutional Neural Network"
   ]
  },
  {
   "cell_type": "code",
   "execution_count": 4,
   "metadata": {},
   "outputs": [],
   "source": [
    "class ConvNet(nn.Module):\n",
    "    def __init__(self, num_classes=10):\n",
    "        super(ConvNet, self).__init__()\n",
    "        # 3.1 Initialization\n",
    "        #******************************#\n",
    "        # conv layer: image tensor 28x28x1\n",
    "        self.conv1 = nn.Conv2d(1, num_filters1, kernel_size, padding=padding)\n",
    "        # batch normalization layer\n",
    "        self.batchnorm1 = nn.BatchNorm2d(num_filters1)\n",
    "        # conv layer: tensor 14x14x8\n",
    "        self.conv2 = nn.Conv2d(num_filters1, num_filters2, kernel_size, padding=padding)\n",
    "        # batch normalization layer\n",
    "        self.batchnorm2 = nn.BatchNorm2d(num_filters2)\n",
    "        # max pooling layer\n",
    "        self.pool = nn.MaxPool2d(maxpool_size, maxpool_size)\n",
    "        # linear layer: tensor 16x7x7\n",
    "        self.fc1 = nn.Linear(num_filters2*final_image_size*final_image_size, num_h1)\n",
    "        # linear layer: tensor 256x10\n",
    "        self.fc2 = nn.Linear(num_h1, num_classes)\n",
    "        # dropout layer: p=0.2\n",
    "        self.dropout = nn.Dropout(dropout_pr)\n",
    "        \n",
    "        #******************************#\n",
    "    def forward(self, x):\n",
    "        # 3.2 Define Neural Network\n",
    "        #******************************#\n",
    "        # conv and max pooling layers\n",
    "        x = self.pool(self.batchnorm1(F.relu(self.conv1(x))))\n",
    "        x = self.pool(self.batchnorm2(F.relu(self.conv2(x))))\n",
    "        # flatten\n",
    "        x = x.view(-1, num_filters2*final_image_size*final_image_size)\n",
    "        # add dropout layer\n",
    "        x = self.dropout(x)\n",
    "        # add first hidden layer with relu\n",
    "        x = F.relu(self.fc1(x))\n",
    "        # add dropout layer\n",
    "        x = self.dropout(x)\n",
    "        # add second dropout layer\n",
    "        out = F.log_softmax(self.fc2(x), dim=1)\n",
    "        #******************************#\n",
    "        return out\n",
    "    \n",
    "model = ConvNet(num_classes).to(device)\n",
    "# print(model)\n",
    "# Note: what is the difference between 'same' and 'valid' padding? \n",
    "# Take a look at the outputs to understand the difference."
   ]
  },
  {
   "cell_type": "markdown",
   "metadata": {},
   "source": [
    "### 4. Training the Model"
   ]
  },
  {
   "cell_type": "code",
   "execution_count": 5,
   "metadata": {},
   "outputs": [
    {
     "name": "stdout",
     "output_type": "stream",
     "text": [
      "Epoch: 1  Training Loss: 0.342994\tValidation Loss: 0.091686\tAccuracy: 0.971146\n",
      "\t\tValidation loss decreased (inf --> 0.091686).  Saving model ...\n",
      "Epoch: 2  Training Loss: 0.119985\tValidation Loss: 0.057730\tAccuracy: 0.981230\n",
      "\t\tValidation loss decreased (0.091686 --> 0.057730).  Saving model ...\n",
      "Epoch: 3  Training Loss: 0.091903\tValidation Loss: 0.049340\tAccuracy: 0.984824\n",
      "\t\tValidation loss decreased (0.057730 --> 0.049340).  Saving model ...\n",
      "Epoch: 4  Training Loss: 0.077596\tValidation Loss: 0.042340\tAccuracy: 0.986222\n",
      "\t\tValidation loss decreased (0.049340 --> 0.042340).  Saving model ...\n",
      "Epoch: 5  Training Loss: 0.069906\tValidation Loss: 0.041217\tAccuracy: 0.986621\n",
      "\t\tValidation loss decreased (0.042340 --> 0.041217).  Saving model ...\n",
      "Epoch: 6  Training Loss: 0.061360\tValidation Loss: 0.035903\tAccuracy: 0.987420\n",
      "\t\tValidation loss decreased (0.041217 --> 0.035903).  Saving model ...\n",
      "Epoch: 7  Training Loss: 0.054226\tValidation Loss: 0.032271\tAccuracy: 0.989117\n",
      "\t\tValidation loss decreased (0.035903 --> 0.032271).  Saving model ...\n",
      "Epoch: 8  Training Loss: 0.049530\tValidation Loss: 0.033863\tAccuracy: 0.989417\n",
      "Epoch: 9  Training Loss: 0.047777\tValidation Loss: 0.030204\tAccuracy: 0.990116\n",
      "\t\tValidation loss decreased (0.032271 --> 0.030204).  Saving model ...\n",
      "Epoch:10  Training Loss: 0.044370\tValidation Loss: 0.029104\tAccuracy: 0.990515\n",
      "\t\tValidation loss decreased (0.030204 --> 0.029104).  Saving model ...\n"
     ]
    }
   ],
   "source": [
    "# 4.1 Define criterion and optimizer\n",
    "#************************************#\n",
    "\n",
    "# specify loss function (categorical cross-entropy)\n",
    "criterion = nn.CrossEntropyLoss()\n",
    "# specify optimizer\n",
    "optimizer = optim.SGD(model.parameters(), lr=learning_rate)\n",
    "\n",
    "#************************************#\n",
    "\n",
    "\n",
    "# 4.2 Train the model\n",
    "# 4.3 Please store and print training and validation loss&accuracy after each epoch\n",
    "#********************************************#\n",
    "def train_model(n_epochs=10, save=False):\n",
    "    \"\"\"trains the model\n",
    "    parameters:\n",
    "    n_epoch: number of epochs\n",
    "    save: if True, saves models is validation loss is decreased during an epoch\n",
    "    \"\"\"\n",
    "    valid_loss_min = np.Inf # track change in validation loss\n",
    "\n",
    "    train_losses = []\n",
    "    test_losses = []\n",
    "    accs = []\n",
    "\n",
    "    for epoch in range(n_epochs):\n",
    "        training_loss = 0  # loss for train data\n",
    "        validation_loss = 0  # loss for test data\n",
    "        accuracy = 0\n",
    "\n",
    "        # train model\n",
    "        model.train()\n",
    "        for data, target in trainloader:\n",
    "            optimizer.zero_grad()\n",
    "            output = model(data)  # forward pass\n",
    "            loss = criterion(output, target)  # calculate loss\n",
    "            loss.backward()  # back propagate\n",
    "            optimizer.step()  # optimizer step\n",
    "            training_loss += loss.item()  # calculate training loss\n",
    "\n",
    "        # validate model\n",
    "        model.eval()\n",
    "        for data, target in testloader:\n",
    "            output = model(data)  # forward pass\n",
    "            loss = criterion(output, target)  # calculate loss\n",
    "            validation_loss += loss.item()  # calculate validation/test loss\n",
    "\n",
    "            # accuracy\n",
    "            out = torch.exp(output)\n",
    "            top_p, top_class = out.topk(1, dim=1)  # take best class from the output\n",
    "            equals = top_class == target.view(*top_class.shape)  #  check if class matches with target class\n",
    "            accuracy += torch.mean(equals.type(torch.FloatTensor))  # calculate accuracy\n",
    "\n",
    "        # calculate average loss and acuracy\n",
    "        train_loss = training_loss/len(trainloader)\n",
    "        valid_loss = validation_loss/len(testloader)\n",
    "        accuracy_pc = accuracy/len(testloader)\n",
    "\n",
    "        # save loss and accuracy for plotting\n",
    "        train_losses.append(train_loss)\n",
    "        test_losses.append(valid_loss)\n",
    "        accs.append(accuracy_pc)\n",
    "\n",
    "        # print training/validation statistics \n",
    "        print('Epoch:{:2d}  Training Loss: {:.6f}\\tValidation Loss: {:.6f}\\tAccuracy: {:.6f}'.format(\n",
    "            epoch+1, train_loss, valid_loss, accuracy_pc))\n",
    "\n",
    "        # save model if validation loss has decreased\n",
    "        if valid_loss <= valid_loss_min:\n",
    "            if n_epochs > 1: # no need to print if there is just 1 epoch\n",
    "                print('\\t\\tValidation loss decreased ({:.6f} --> {:.6f}).  Saving model ...'.format(valid_loss_min, valid_loss))\n",
    "            if save:  # saves the model\n",
    "                torch.save(model.state_dict(), 'model_mnist.pt')\n",
    "            valid_loss_min = valid_loss  # store minimum validation loss\n",
    "\n",
    "    return train_losses, test_losses, accs \n",
    "            \n",
    "#*******************************************#\n",
    "# train the model for 10 epochs\n",
    "train_losses, test_losses, accs = train_model(n_epochs=10, save=True) "
   ]
  },
  {
   "cell_type": "markdown",
   "metadata": {},
   "source": [
    "### 5. Model Evaluation"
   ]
  },
  {
   "cell_type": "code",
   "execution_count": 7,
   "metadata": {},
   "outputs": [
    {
     "name": "stdout",
     "output_type": "stream",
     "text": [
      "Number of parameters:  204826\n",
      "Epoch\tTraining Loss\tValidation Loss\n",
      "1 \t0.34299371 & \t0.09168640\n",
      "2 \t0.11998538 & \t0.05773036\n",
      "3 \t0.09190263 & \t0.04934031\n",
      "4 \t0.07759595 & \t0.04234007\n",
      "5 \t0.06990580 & \t0.04121702\n",
      "6 \t0.06135981 & \t0.03590280\n",
      "7 \t0.05422640 & \t0.03227065\n",
      "8 \t0.04953009 & \t0.03386303\n",
      "9 \t0.04777700 & \t0.03020406\n",
      "10 \t0.04437030 & \t0.02910404\n"
     ]
    },
    {
     "data": {
      "image/png": "[encoded data removed]",
      "text/plain": [
       "<Figure size 432x288 with 1 Axes>"
      ]
     },
     "metadata": {
      "image/png": {
       "height": 263,
       "width": 393
      }
     },
     "output_type": "display_data"
    },
    {
     "name": "stdout",
     "output_type": "stream",
     "text": [
      "Epoch\tAccuracy\n",
      "1 \t0.97114617\n",
      "2 \t0.98123002\n",
      "3 \t0.98482430\n",
      "4 \t0.98622203\n",
      "5 \t0.98662138\n",
      "6 \t0.98742014\n",
      "7 \t0.98911738\n",
      "8 \t0.98941696\n",
      "9 \t0.99011582\n",
      "10 \t0.99051517\n"
     ]
    },
    {
     "data": {
      "image/png": "[encoded data removed]",
      "text/plain": [
       "<Figure size 432x288 with 1 Axes>"
      ]
     },
     "metadata": {
      "image/png": {
       "height": 263,
       "width": 406
      }
     },
     "output_type": "display_data"
    }
   ],
   "source": [
    "# 5.1 Print number of parameters in the model\n",
    "#************************************#\n",
    "highest_num_params = 1000000  # 1 Million \n",
    "# calculate number of parameters in used model\n",
    "total_params = sum(p.numel() for p in model.parameters())\n",
    "print('Number of parameters: ', total_params)\n",
    "\n",
    "# check if the number of parameters exceed the limitation\n",
    "if highest_num_params < total_params:\n",
    "    print('Parameter number exceeded than 1 million!')\n",
    "#************************************#\n",
    "\n",
    "\n",
    "# 5.2 Summarize history for loss and make loss vs.epoch plot\n",
    "#************************************#\n",
    "# print loss for each epoch\n",
    "print('Epoch\\tTraining Loss\\tValidation Loss')\n",
    "for i in range(n_epochs):\n",
    "    print(i+1, '\\t{:.8f} & \\t{:.8f}'.format(train_losses[i], test_losses[i]))\n",
    "    \n",
    "# plot    \n",
    "%config InlineBackend.figure_format = 'retina'\n",
    "plt.plot(train_losses, label='Training loss')\n",
    "plt.plot(test_losses, label='Validation loss')\n",
    "plt.xlabel('Epoch')\n",
    "plt.ylabel('loss')\n",
    "plt.legend(frameon=False)\n",
    "plt.show()\n",
    "\n",
    "\n",
    "#************************************#\n",
    "\n",
    "# 5.3 Summarize history for accuracy and make accuracy vs.epoch plot\n",
    "#************************************#\n",
    "# print accuracy for each epoch\n",
    "print('Epoch\\tAccuracy')\n",
    "for i in range(n_epochs):\n",
    "    print(i+1, '\\t{:.8f}'.format(accs[i]))\n",
    "\n",
    "plt.plot(accs, label='Accuracy')\n",
    "plt.xlabel('Epoch')\n",
    "plt.ylabel('Accuracy')\n",
    "plt.legend(frameon=False)\n",
    "plt.show()\n",
    "#************************************#"
   ]
  },
  {
   "cell_type": "markdown",
   "metadata": {},
   "source": [
    "### 5. Varying dropout probabilities"
   ]
  },
  {
   "cell_type": "code",
   "execution_count": 8,
   "metadata": {},
   "outputs": [
    {
     "name": "stdout",
     "output_type": "stream",
     "text": [
      "Dropout Probability:  0.0\n",
      "Epoch: 1  Training Loss: 0.257634\tValidation Loss: 0.090640\tAccuracy: 0.972045\n",
      "---------------------------------------------\n",
      "Dropout Probability:  0.111111111111\n",
      "Epoch: 1  Training Loss: 0.286351\tValidation Loss: 0.080560\tAccuracy: 0.976837\n",
      "---------------------------------------------\n",
      "Dropout Probability:  0.222222222222\n",
      "Epoch: 1  Training Loss: 0.346497\tValidation Loss: 0.085683\tAccuracy: 0.974042\n",
      "---------------------------------------------\n",
      "Dropout Probability:  0.333333333333\n",
      "Epoch: 1  Training Loss: 0.408794\tValidation Loss: 0.094936\tAccuracy: 0.969848\n",
      "---------------------------------------------\n",
      "Dropout Probability:  0.444444444444\n",
      "Epoch: 1  Training Loss: 0.425644\tValidation Loss: 0.103276\tAccuracy: 0.967752\n",
      "---------------------------------------------\n",
      "Dropout Probability:  0.555555555556\n",
      "Epoch: 1  Training Loss: 0.545243\tValidation Loss: 0.113147\tAccuracy: 0.967153\n",
      "---------------------------------------------\n",
      "Dropout Probability:  0.666666666667\n",
      "Epoch: 1  Training Loss: 0.660455\tValidation Loss: 0.138665\tAccuracy: 0.960663\n",
      "---------------------------------------------\n",
      "Dropout Probability:  0.777777777778\n",
      "Epoch: 1  Training Loss: 0.973121\tValidation Loss: 0.180189\tAccuracy: 0.954972\n",
      "---------------------------------------------\n",
      "Dropout Probability:  0.888888888889\n",
      "Epoch: 1  Training Loss: 1.692312\tValidation Loss: 0.625983\tAccuracy: 0.903754\n",
      "---------------------------------------------\n",
      "Dropout Probability:  1.0\n",
      "Epoch: 1  Training Loss: 2.301716\tValidation Loss: 2.335829\tAccuracy: 0.120607\n",
      "---------------------------------------------\n"
     ]
    }
   ],
   "source": [
    "# Set the probabilities of your dropout layers to 10 equally-spaced valuesp∈[0,1], \n",
    "# train for 1 epoch and report the final model accuracies for each.\n",
    "#************************************#\n",
    "p_list = np.linspace(0, 1, 10)\n",
    "\n",
    "for pr in p_list:\n",
    "    print('Dropout Probability: ', pr)\n",
    "    # set dropout probability \n",
    "    dropout_pr = pr\n",
    "    # initialize the model, loss and optimizer again \n",
    "    model = ConvNet(num_classes).to(device)\n",
    "    criterion = nn.CrossEntropyLoss()\n",
    "    optimizer = optim.SGD(model.parameters(), lr=0.01)\n",
    "    \n",
    "    # train the model for 1 epoch with the probability also prints the accuracy\n",
    "    train_model(n_epochs=1, save=False)\n",
    "    print('---------------------------------------------')\n",
    "    \n",
    "#************************************#"
   ]
  },
  {
   "cell_type": "code",
   "execution_count": null,
   "metadata": {
    "collapsed": true
   },
   "outputs": [],
   "source": []
  }
 ],
 "metadata": {
  "kernelspec": {
   "display_name": "Python 3",
   "language": "python",
   "name": "python3"
  },
  "language_info": {
   "codemirror_mode": {
    "name": "ipython",
    "version": 3
   },
   "file_extension": ".py",
   "mimetype": "text/x-python",
   "name": "python",
   "nbconvert_exporter": "python",
   "pygments_lexer": "ipython3",
   "version": "3.6.8"
  }
 },
 "nbformat": 4,
 "nbformat_minor": 1
}
